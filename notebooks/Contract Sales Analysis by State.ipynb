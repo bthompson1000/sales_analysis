{
 "cells": [
  {
   "cell_type": "code",
   "execution_count": 1,
   "metadata": {},
   "outputs": [
    {
     "data": {
      "text/plain": [
       "'1.1.3'"
      ]
     },
     "execution_count": 1,
     "metadata": {},
     "output_type": "execute_result"
    }
   ],
   "source": [
    "import pandas as pd\n",
    "pd.__version__"
   ]
  },
  {
   "cell_type": "code",
   "execution_count": 2,
   "metadata": {},
   "outputs": [
    {
     "data": {
      "text/plain": [
       "'/Users/brigettethompson/Desktop/BIP-PYTHON/sales_analysis/notebooks'"
      ]
     },
     "execution_count": 2,
     "metadata": {},
     "output_type": "execute_result"
    }
   ],
   "source": [
    "import os\n",
    "os.getcwd()"
   ]
  },
  {
   "cell_type": "code",
   "execution_count": 3,
   "metadata": {},
   "outputs": [
    {
     "name": "stdout",
     "output_type": "stream",
     "text": [
      "     contract_id  customer_id contract_start  contract_term     deposit  \\\n",
      "0              1          127      8/17/2019             12  $53,000.00   \n",
      "1              2          119      12/1/2019             22  $77,000.00   \n",
      "2              3          160       5/1/2019             15  $13,000.00   \n",
      "3              4            7      12/8/2019             23  $56,000.00   \n",
      "4              5          144      2/11/2019              7  $21,000.00   \n",
      "..           ...          ...            ...            ...         ...   \n",
      "995          996           57      11/8/2019             15  $38,000.00   \n",
      "996          997          126      1/13/2019             20  $28,000.00   \n",
      "997          998           89       5/8/2019              7  $73,000.00   \n",
      "998          999           52      3/26/2019              7  $63,000.00   \n",
      "999         1000            3      3/19/2019             16  $23,000.00   \n",
      "\n",
      "    monthly_amt  \n",
      "0    $11,600.00  \n",
      "1    $14,600.00  \n",
      "2    $22,800.00  \n",
      "3    $11,400.00  \n",
      "4    $19,800.00  \n",
      "..          ...  \n",
      "995   $5,300.00  \n",
      "996  $16,000.00  \n",
      "997  $18,400.00  \n",
      "998  $21,600.00  \n",
      "999  $15,700.00  \n",
      "\n",
      "[1000 rows x 6 columns]\n"
     ]
    }
   ],
   "source": [
    "import pandas as pd\n",
    "\n",
    "contracts = pd.read_csv (r'/Users/brigettethompson/Desktop/BIP-PYTHON/sales_analysis/data/contracts.csv')\n",
    "print (contracts)"
   ]
  },
  {
   "cell_type": "code",
   "execution_count": 4,
   "metadata": {},
   "outputs": [
    {
     "name": "stdout",
     "output_type": "stream",
     "text": [
      "      id       company            sector  \\\n",
      "0      1     Bubblebox     Capital Goods   \n",
      "1      2          Izio            Energy   \n",
      "2      3  Twitterworks               NaN   \n",
      "3      4          Viva       Health Care   \n",
      "4      5   Jabberstorm        Technology   \n",
      "..   ...           ...               ...   \n",
      "245  246      Livefish            Energy   \n",
      "246  247          Katz               NaN   \n",
      "247  248         Yombu  Public Utilities   \n",
      "248  249       Dynazzy               NaN   \n",
      "249  250   Twitterwire        Technology   \n",
      "\n",
      "                                    industry                      email  \\\n",
      "0              Military/Government/Technical   kyerson0@bizjournals.com   \n",
      "1                       Oil & Gas Production        farlet1@comcast.net   \n",
      "2                                        NaN         alerohan2@ox.ac.uk   \n",
      "3                      Major Pharmaceuticals   wgiovanitti3@nytimes.com   \n",
      "4    Computer Software: Prepackaged Software          pscallon4@fc2.com   \n",
      "..                                       ...                        ...   \n",
      "245              Oilfield Services/Equipment      gcressy6t@twitter.com   \n",
      "246                                      NaN        siacobini6u@fc2.com   \n",
      "247                 Natural Gas Distribution        ccandy6v@tumblr.com   \n",
      "248                                      NaN   lmothersole6w@nsw.gov.au   \n",
      "249                           Semiconductors  haseef6x@miitbeian.gov.cn   \n",
      "\n",
      "                        address            city state    zip  \n",
      "0               76 Randy Circle       San Diego    CA  92170  \n",
      "1    15360 Village Green Street         Spokane    WA  99252  \n",
      "2                 29 Hovde Hill       Milwaukee    WI  53234  \n",
      "3              074 Center Place          Topeka    KS  66667  \n",
      "4                   4 Moose Way     Terre Haute    IN  47805  \n",
      "..                          ...             ...   ...    ...  \n",
      "245        05019 Eastwood Alley     Brooksville    FL  34605  \n",
      "246       6567 Old Shore Center           Omaha    NE  68134  \n",
      "247          6442 Vahlen Avenue  Salt Lake City    UT  84125  \n",
      "248           15 Oakridge Court   New York City    NY  10060  \n",
      "249             8190 Rusk Point         Seattle    WA  98166  \n",
      "\n",
      "[250 rows x 9 columns]\n"
     ]
    }
   ],
   "source": [
    "import pandas as pd\n",
    "\n",
    "customers = pd.read_csv (r'/Users/brigettethompson/Desktop/BIP-PYTHON/sales_analysis/data/customers.csv')\n",
    "print (customers)"
   ]
  },
  {
   "cell_type": "code",
   "execution_count": 5,
   "metadata": {},
   "outputs": [
    {
     "name": "stdout",
     "output_type": "stream",
     "text": [
      "     customer_id     deposit  contract_term monthly_amt\n",
      "0            127  $53,000.00             12  $11,600.00\n",
      "1            119  $77,000.00             22  $14,600.00\n",
      "2            160  $13,000.00             15  $22,800.00\n",
      "3              7  $56,000.00             23  $11,400.00\n",
      "4            144  $21,000.00              7  $19,800.00\n",
      "..           ...         ...            ...         ...\n",
      "995           57  $38,000.00             15   $5,300.00\n",
      "996          126  $28,000.00             20  $16,000.00\n",
      "997           89  $73,000.00              7  $18,400.00\n",
      "998           52  $63,000.00              7  $21,600.00\n",
      "999            3  $23,000.00             16  $15,700.00\n",
      "\n",
      "[1000 rows x 4 columns]\n"
     ]
    }
   ],
   "source": [
    "contracts_1 = pd.DataFrame(contracts, columns = ['customer_id', 'deposit', 'contract_term', 'monthly_amt'])\n",
    "print (contracts_1)"
   ]
  },
  {
   "cell_type": "code",
   "execution_count": 6,
   "metadata": {},
   "outputs": [
    {
     "data": {
      "text/html": [
       "<div>\n",
       "<style scoped>\n",
       "    .dataframe tbody tr th:only-of-type {\n",
       "        vertical-align: middle;\n",
       "    }\n",
       "\n",
       "    .dataframe tbody tr th {\n",
       "        vertical-align: top;\n",
       "    }\n",
       "\n",
       "    .dataframe thead th {\n",
       "        text-align: right;\n",
       "    }\n",
       "</style>\n",
       "<table border=\"1\" class=\"dataframe\">\n",
       "  <thead>\n",
       "    <tr style=\"text-align: right;\">\n",
       "      <th></th>\n",
       "      <th>state</th>\n",
       "    </tr>\n",
       "    <tr>\n",
       "      <th>customer_id</th>\n",
       "      <th></th>\n",
       "    </tr>\n",
       "  </thead>\n",
       "  <tbody>\n",
       "    <tr>\n",
       "      <th>1</th>\n",
       "      <td>CA</td>\n",
       "    </tr>\n",
       "    <tr>\n",
       "      <th>2</th>\n",
       "      <td>WA</td>\n",
       "    </tr>\n",
       "    <tr>\n",
       "      <th>3</th>\n",
       "      <td>WI</td>\n",
       "    </tr>\n",
       "    <tr>\n",
       "      <th>4</th>\n",
       "      <td>KS</td>\n",
       "    </tr>\n",
       "    <tr>\n",
       "      <th>5</th>\n",
       "      <td>IN</td>\n",
       "    </tr>\n",
       "    <tr>\n",
       "      <th>...</th>\n",
       "      <td>...</td>\n",
       "    </tr>\n",
       "    <tr>\n",
       "      <th>246</th>\n",
       "      <td>FL</td>\n",
       "    </tr>\n",
       "    <tr>\n",
       "      <th>247</th>\n",
       "      <td>NE</td>\n",
       "    </tr>\n",
       "    <tr>\n",
       "      <th>248</th>\n",
       "      <td>UT</td>\n",
       "    </tr>\n",
       "    <tr>\n",
       "      <th>249</th>\n",
       "      <td>NY</td>\n",
       "    </tr>\n",
       "    <tr>\n",
       "      <th>250</th>\n",
       "      <td>WA</td>\n",
       "    </tr>\n",
       "  </tbody>\n",
       "</table>\n",
       "<p>250 rows × 1 columns</p>\n",
       "</div>"
      ],
      "text/plain": [
       "            state\n",
       "customer_id      \n",
       "1              CA\n",
       "2              WA\n",
       "3              WI\n",
       "4              KS\n",
       "5              IN\n",
       "...           ...\n",
       "246            FL\n",
       "247            NE\n",
       "248            UT\n",
       "249            NY\n",
       "250            WA\n",
       "\n",
       "[250 rows x 1 columns]"
      ]
     },
     "execution_count": 6,
     "metadata": {},
     "output_type": "execute_result"
    }
   ],
   "source": [
    "customers_1 = pd.DataFrame(customers, columns = ['id', 'state'])\n",
    "\n",
    "customers_1.columns = ['customer_id', 'state']\n",
    "customers_1.set_index('customer_id', inplace=True)\n",
    "customers_1\n",
    "\n"
   ]
  },
  {
   "cell_type": "code",
   "execution_count": 7,
   "metadata": {},
   "outputs": [
    {
     "data": {
      "text/html": [
       "<div>\n",
       "<style scoped>\n",
       "    .dataframe tbody tr th:only-of-type {\n",
       "        vertical-align: middle;\n",
       "    }\n",
       "\n",
       "    .dataframe tbody tr th {\n",
       "        vertical-align: top;\n",
       "    }\n",
       "\n",
       "    .dataframe thead th {\n",
       "        text-align: right;\n",
       "    }\n",
       "</style>\n",
       "<table border=\"1\" class=\"dataframe\">\n",
       "  <thead>\n",
       "    <tr style=\"text-align: right;\">\n",
       "      <th></th>\n",
       "      <th>deposit</th>\n",
       "      <th>contract_term</th>\n",
       "      <th>monthly_amt</th>\n",
       "      <th>state</th>\n",
       "    </tr>\n",
       "    <tr>\n",
       "      <th>customer_id</th>\n",
       "      <th></th>\n",
       "      <th></th>\n",
       "      <th></th>\n",
       "      <th></th>\n",
       "    </tr>\n",
       "  </thead>\n",
       "  <tbody>\n",
       "    <tr>\n",
       "      <th>119</th>\n",
       "      <td>$77,000.00</td>\n",
       "      <td>22</td>\n",
       "      <td>$14,600.00</td>\n",
       "      <td>CA</td>\n",
       "    </tr>\n",
       "    <tr>\n",
       "      <th>160</th>\n",
       "      <td>$13,000.00</td>\n",
       "      <td>15</td>\n",
       "      <td>$22,800.00</td>\n",
       "      <td>WA</td>\n",
       "    </tr>\n",
       "    <tr>\n",
       "      <th>7</th>\n",
       "      <td>$56,000.00</td>\n",
       "      <td>23</td>\n",
       "      <td>$11,400.00</td>\n",
       "      <td>WI</td>\n",
       "    </tr>\n",
       "    <tr>\n",
       "      <th>144</th>\n",
       "      <td>$21,000.00</td>\n",
       "      <td>7</td>\n",
       "      <td>$19,800.00</td>\n",
       "      <td>KS</td>\n",
       "    </tr>\n",
       "    <tr>\n",
       "      <th>75</th>\n",
       "      <td>$74,000.00</td>\n",
       "      <td>9</td>\n",
       "      <td>$13,500.00</td>\n",
       "      <td>IN</td>\n",
       "    </tr>\n",
       "    <tr>\n",
       "      <th>...</th>\n",
       "      <td>...</td>\n",
       "      <td>...</td>\n",
       "      <td>...</td>\n",
       "      <td>...</td>\n",
       "    </tr>\n",
       "    <tr>\n",
       "      <th>168</th>\n",
       "      <td>$77,000.00</td>\n",
       "      <td>20</td>\n",
       "      <td>$12,900.00</td>\n",
       "      <td>FL</td>\n",
       "    </tr>\n",
       "    <tr>\n",
       "      <th>128</th>\n",
       "      <td>$19,000.00</td>\n",
       "      <td>1</td>\n",
       "      <td>$6,300.00</td>\n",
       "      <td>NE</td>\n",
       "    </tr>\n",
       "    <tr>\n",
       "      <th>77</th>\n",
       "      <td>$90,000.00</td>\n",
       "      <td>9</td>\n",
       "      <td>$9,400.00</td>\n",
       "      <td>UT</td>\n",
       "    </tr>\n",
       "    <tr>\n",
       "      <th>66</th>\n",
       "      <td>$68,000.00</td>\n",
       "      <td>14</td>\n",
       "      <td>$13,600.00</td>\n",
       "      <td>NY</td>\n",
       "    </tr>\n",
       "    <tr>\n",
       "      <th>121</th>\n",
       "      <td>$99,000.00</td>\n",
       "      <td>23</td>\n",
       "      <td>$18,000.00</td>\n",
       "      <td>WA</td>\n",
       "    </tr>\n",
       "  </tbody>\n",
       "</table>\n",
       "<p>250 rows × 4 columns</p>\n",
       "</div>"
      ],
      "text/plain": [
       "                deposit  contract_term monthly_amt state\n",
       "customer_id                                             \n",
       "119          $77,000.00             22  $14,600.00    CA\n",
       "160          $13,000.00             15  $22,800.00    WA\n",
       "7            $56,000.00             23  $11,400.00    WI\n",
       "144          $21,000.00              7  $19,800.00    KS\n",
       "75           $74,000.00              9  $13,500.00    IN\n",
       "...                 ...            ...         ...   ...\n",
       "168          $77,000.00             20  $12,900.00    FL\n",
       "128          $19,000.00              1   $6,300.00    NE\n",
       "77           $90,000.00              9   $9,400.00    UT\n",
       "66           $68,000.00             14  $13,600.00    NY\n",
       "121          $99,000.00             23  $18,000.00    WA\n",
       "\n",
       "[250 rows x 4 columns]"
      ]
     },
     "execution_count": 7,
     "metadata": {},
     "output_type": "execute_result"
    }
   ],
   "source": [
    "combined_df = contracts_1.join(customers_1, how='inner') \n",
    "combined_df.set_index('customer_id', inplace=True)\n",
    "combined_df"
   ]
  }
 ],
 "metadata": {
  "kernelspec": {
   "display_name": "Python 3",
   "language": "python",
   "name": "python3"
  },
  "language_info": {
   "codemirror_mode": {
    "name": "ipython",
    "version": 3
   },
   "file_extension": ".py",
   "mimetype": "text/x-python",
   "name": "python",
   "nbconvert_exporter": "python",
   "pygments_lexer": "ipython3",
   "version": "3.8.5"
  }
 },
 "nbformat": 4,
 "nbformat_minor": 4
}
